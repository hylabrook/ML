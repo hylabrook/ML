{
  "nbformat": 4,
  "nbformat_minor": 0,
  "metadata": {
    "colab": {
      "name": "relation_similarity_analysis.ipynb",
      "provenance": []
    },
    "kernelspec": {
      "name": "python3",
      "display_name": "Python 3"
    },
    "language_info": {
      "name": "python"
    },
    "accelerator": "GPU"
  },
  "cells": [
    {
      "cell_type": "code",
      "metadata": {
        "colab": {
          "base_uri": "https://localhost:8080/"
        },
        "id": "pP5VsYyA1e0N",
        "outputId": "0f6243e6-92a6-4ef3-e5b3-fc89b11c5776"
      },
      "source": [
        "! sudo pip3 install dgl-cu101"
      ],
      "execution_count": null,
      "outputs": [
        {
          "output_type": "stream",
          "text": [
            "Collecting dgl-cu101\n",
            "\u001b[?25l  Downloading https://files.pythonhosted.org/packages/34/42/f2b5c0a2ba070599b06981698fd5b302bd081c4d0257b6f84cb2c196886a/dgl_cu101-0.6.1-cp37-cp37m-manylinux1_x86_64.whl (36.2MB)\n",
            "\u001b[K     |████████████████████████████████| 36.2MB 76kB/s \n",
            "\u001b[?25hRequirement already satisfied: networkx>=2.1 in /usr/local/lib/python3.7/dist-packages (from dgl-cu101) (2.5.1)\n",
            "Requirement already satisfied: requests>=2.19.0 in /usr/local/lib/python3.7/dist-packages (from dgl-cu101) (2.23.0)\n",
            "Requirement already satisfied: scipy>=1.1.0 in /usr/local/lib/python3.7/dist-packages (from dgl-cu101) (1.4.1)\n",
            "Requirement already satisfied: numpy>=1.14.0 in /usr/local/lib/python3.7/dist-packages (from dgl-cu101) (1.19.5)\n",
            "Requirement already satisfied: decorator<5,>=4.3 in /usr/local/lib/python3.7/dist-packages (from networkx>=2.1->dgl-cu101) (4.4.2)\n",
            "Requirement already satisfied: idna<3,>=2.5 in /usr/local/lib/python3.7/dist-packages (from requests>=2.19.0->dgl-cu101) (2.10)\n",
            "Requirement already satisfied: certifi>=2017.4.17 in /usr/local/lib/python3.7/dist-packages (from requests>=2.19.0->dgl-cu101) (2021.5.30)\n",
            "Requirement already satisfied: chardet<4,>=3.0.2 in /usr/local/lib/python3.7/dist-packages (from requests>=2.19.0->dgl-cu101) (3.0.4)\n",
            "Requirement already satisfied: urllib3!=1.25.0,!=1.25.1,<1.26,>=1.21.1 in /usr/local/lib/python3.7/dist-packages (from requests>=2.19.0->dgl-cu101) (1.24.3)\n",
            "Installing collected packages: dgl-cu101\n",
            "Successfully installed dgl-cu101-0.6.1\n"
          ],
          "name": "stdout"
        }
      ]
    },
    {
      "cell_type": "code",
      "metadata": {
        "colab": {
          "base_uri": "https://localhost:8080/"
        },
        "id": "Qn3r7sIGw4kA",
        "outputId": "76759ad5-0e5c-4808-a228-8196d2751a41"
      },
      "source": [
        "! nvidia-smi"
      ],
      "execution_count": null,
      "outputs": [
        {
          "output_type": "stream",
          "text": [
            "Sun Jun 20 00:13:15 2021       \n",
            "+-----------------------------------------------------------------------------+\n",
            "| NVIDIA-SMI 465.27       Driver Version: 460.32.03    CUDA Version: 11.2     |\n",
            "|-------------------------------+----------------------+----------------------+\n",
            "| GPU  Name        Persistence-M| Bus-Id        Disp.A | Volatile Uncorr. ECC |\n",
            "| Fan  Temp  Perf  Pwr:Usage/Cap|         Memory-Usage | GPU-Util  Compute M. |\n",
            "|                               |                      |               MIG M. |\n",
            "|===============================+======================+======================|\n",
            "|   0  Tesla T4            Off  | 00000000:00:04.0 Off |                    0 |\n",
            "| N/A   45C    P8     9W /  70W |      0MiB / 15109MiB |      0%      Default |\n",
            "|                               |                      |                  N/A |\n",
            "+-------------------------------+----------------------+----------------------+\n",
            "                                                                               \n",
            "+-----------------------------------------------------------------------------+\n",
            "| Processes:                                                                  |\n",
            "|  GPU   GI   CI        PID   Type   Process name                  GPU Memory |\n",
            "|        ID   ID                                                   Usage      |\n",
            "|=============================================================================|\n",
            "|  No running processes found                                                 |\n",
            "+-----------------------------------------------------------------------------+\n"
          ],
          "name": "stdout"
        }
      ]
    },
    {
      "cell_type": "code",
      "metadata": {
        "colab": {
          "base_uri": "https://localhost:8080/"
        },
        "id": "nWZbDkf_1yHL",
        "outputId": "d9148a25-b2ca-4cfc-d27f-95a2b63ecf6d"
      },
      "source": [
        "! sudo pip3 install dglke"
      ],
      "execution_count": null,
      "outputs": [
        {
          "output_type": "stream",
          "text": [
            "Collecting dglke\n",
            "\u001b[?25l  Downloading https://files.pythonhosted.org/packages/3d/dd/e59e958d8c6325d73476d309393c1e6f355a6418c03c415f18a1e79213fd/dglke-0.1.2-py3-none-any.whl (78kB)\n",
            "\r\u001b[K     |████▏                           | 10kB 21.5MB/s eta 0:00:01\r\u001b[K     |████████▎                       | 20kB 17.7MB/s eta 0:00:01\r\u001b[K     |████████████▌                   | 30kB 11.3MB/s eta 0:00:01\r\u001b[K     |████████████████▋               | 40kB 9.3MB/s eta 0:00:01\r\u001b[K     |████████████████████▉           | 51kB 7.5MB/s eta 0:00:01\r\u001b[K     |█████████████████████████       | 61kB 7.1MB/s eta 0:00:01\r\u001b[K     |█████████████████████████████▏  | 71kB 8.0MB/s eta 0:00:01\r\u001b[K     |████████████████████████████████| 81kB 5.0MB/s \n",
            "\u001b[?25hRequirement already satisfied: setuptools in /usr/local/lib/python3.7/dist-packages (from dglke) (57.0.0)\n",
            "Requirement already satisfied: numpy in /usr/local/lib/python3.7/dist-packages (from dglke) (1.19.5)\n",
            "Installing collected packages: dglke\n",
            "Successfully installed dglke-0.1.2\n"
          ],
          "name": "stdout"
        }
      ]
    },
    {
      "cell_type": "code",
      "metadata": {
        "colab": {
          "base_uri": "https://localhost:8080/"
        },
        "id": "6vqAZ9G93WNd",
        "outputId": "7bb29e7d-bb55-4cc5-f906-ff95efe95cb7"
      },
      "source": [
        "! git clone https://github.com/gnn4dr/DRKG.git"
      ],
      "execution_count": null,
      "outputs": [
        {
          "output_type": "stream",
          "text": [
            "Cloning into 'DRKG'...\n",
            "remote: Enumerating objects: 283, done.\u001b[K\n",
            "remote: Counting objects: 100% (95/95), done.\u001b[K\n",
            "remote: Compressing objects: 100% (50/50), done.\u001b[K\n",
            "remote: Total 283 (delta 48), reused 81 (delta 45), pack-reused 188\u001b[K\n",
            "Receiving objects: 100% (283/283), 1.39 MiB | 18.67 MiB/s, done.\n",
            "Resolving deltas: 100% (127/127), done.\n"
          ],
          "name": "stdout"
        }
      ]
    },
    {
      "cell_type": "code",
      "metadata": {
        "id": "4kN9tJtx1-14",
        "colab": {
          "base_uri": "https://localhost:8080/"
        },
        "outputId": "daea684d-1f08-40ad-9c2c-d77d31319dd4"
      },
      "source": [
        "import pandas as pd\n",
        "import numpy as np\n",
        "import dgl\n",
        "import sys\n",
        "sys.path.insert(1, 'DRKG/utils')\n",
        "from utils import download_and_extract\n",
        "download_and_extract()\n",
        "drkg_file = '../data/drkg.tsv'\n",
        "df = pd.read_csv(drkg_file, sep=\"\\t\")\n",
        "triplets = df.values.tolist()"
      ],
      "execution_count": null,
      "outputs": [
        {
          "output_type": "stream",
          "text": [
            "DGL backend not selected or invalid.  Assuming PyTorch for now.\n"
          ],
          "name": "stderr"
        },
        {
          "output_type": "stream",
          "text": [
            "Setting the default backend to \"pytorch\". You can change it in the ~/.dgl/config.json file or export the DGLBACKEND environment variable.  Valid options are: pytorch, mxnet, tensorflow (all lowercase)\n"
          ],
          "name": "stdout"
        },
        {
          "output_type": "stream",
          "text": [
            "Using backend: pytorch\n"
          ],
          "name": "stderr"
        },
        {
          "output_type": "stream",
          "text": [
            "Download finished. Unzipping the file...\n"
          ],
          "name": "stdout"
        }
      ]
    },
    {
      "cell_type": "code",
      "metadata": {
        "colab": {
          "base_uri": "https://localhost:8080/"
        },
        "id": "zVlLQdoLx_bi",
        "outputId": "673fd040-26de-4ebe-d836-e281e9ab4dd5"
      },
      "source": [
        "! wget https://dgl-data.s3-us-west-2.amazonaws.com/dataset/DRKG/drkg.tar.gz\n"
      ],
      "execution_count": null,
      "outputs": [
        {
          "output_type": "stream",
          "text": [
            "--2021-06-20 00:18:02--  https://dgl-data.s3-us-west-2.amazonaws.com/dataset/DRKG/drkg.tar.gz\n",
            "Resolving dgl-data.s3-us-west-2.amazonaws.com (dgl-data.s3-us-west-2.amazonaws.com)... 52.218.225.73\n",
            "Connecting to dgl-data.s3-us-west-2.amazonaws.com (dgl-data.s3-us-west-2.amazonaws.com)|52.218.225.73|:443... connected.\n",
            "HTTP request sent, awaiting response... 200 OK\n",
            "Length: 216650245 (207M) [application/x-tar]\n",
            "Saving to: ‘drkg.tar.gz’\n",
            "\n",
            "drkg.tar.gz         100%[===================>] 206.61M  33.0MB/s    in 6.2s    \n",
            "\n",
            "2021-06-20 00:18:09 (33.2 MB/s) - ‘drkg.tar.gz’ saved [216650245/216650245]\n",
            "\n"
          ],
          "name": "stdout"
        }
      ]
    },
    {
      "cell_type": "code",
      "metadata": {
        "id": "N5JI5kta14Ks"
      },
      "source": [
        "! tar -xf drkg.tar.gz"
      ],
      "execution_count": null,
      "outputs": []
    },
    {
      "cell_type": "code",
      "metadata": {
        "colab": {
          "base_uri": "https://localhost:8080/"
        },
        "id": "ntAEgMZXyaGZ",
        "outputId": "f3ef8977-c309-47fc-a705-1a4d717ad438"
      },
      "source": [
        "! ls embed/"
      ],
      "execution_count": null,
      "outputs": [
        {
          "output_type": "stream",
          "text": [
            "DRKG_TransE_l2_entity.npy    mol_contextpred.npy  mol_masking.npy\n",
            "DRKG_TransE_l2_relation.npy  mol_edgepred.npy\t  Readme.md\n",
            "entities.tsv\t\t     mol_infomax.npy\t  relations.tsv\n"
          ],
          "name": "stdout"
        }
      ]
    },
    {
      "cell_type": "code",
      "metadata": {
        "colab": {
          "base_uri": "https://localhost:8080/"
        },
        "id": "j1-VjnK0y7N0",
        "outputId": "badf9c43-b8ca-4a97-e69b-c2e0010f65b9"
      },
      "source": [
        "! ls  DRKG/"
      ],
      "execution_count": null,
      "outputs": [
        {
          "output_type": "stream",
          "text": [
            "connectivity.png  drug_repurpose      licenses\t\t  utils\n",
            "drkg_with_dgl\t  embedding_analysis  raw_graph_analysis\n",
            "drugbank_info\t  LICENSE\t      Readme.md\n"
          ],
          "name": "stdout"
        }
      ]
    },
    {
      "cell_type": "code",
      "metadata": {
        "colab": {
          "base_uri": "https://localhost:8080/"
        },
        "id": "ie8vqHBzzj5X",
        "outputId": "c5825114-bef1-4c88-88b8-e47d546122e5"
      },
      "source": [
        "! ls"
      ],
      "execution_count": null,
      "outputs": [
        {
          "output_type": "stream",
          "text": [
            "DRKG\t     drkg.tsv  entity2src.tsv\t      sample_data\n",
            "drkg.tar.gz  embed     relation_glossary.tsv\n"
          ],
          "name": "stdout"
        }
      ]
    },
    {
      "cell_type": "code",
      "metadata": {
        "colab": {
          "base_uri": "https://localhost:8080/"
        },
        "id": "-DH45aNA5W_d",
        "outputId": "48f2f02a-7081-44b9-eca4-d505f7088225"
      },
      "source": [
        "print(len(triplets))"
      ],
      "execution_count": null,
      "outputs": [
        {
          "output_type": "stream",
          "text": [
            "5874260\n"
          ],
          "name": "stdout"
        }
      ]
    },
    {
      "cell_type": "code",
      "metadata": {
        "colab": {
          "base_uri": "https://localhost:8080/"
        },
        "id": "HREkLugK67_o",
        "outputId": "f79877c9-cf8e-42c5-96ee-d5fa38eca8c0"
      },
      "source": [
        "import pandas as pd\n",
        "import numpy as np\n",
        "import os\n",
        "import csv\n",
        "\n",
        "\n",
        "rel2id = {}\n",
        "id2rel = {}\n",
        "with open(\"./embed/relations.tsv\", newline='', encoding='utf-8') as csvfile:\n",
        "    reader = csv.DictReader(csvfile, delimiter='\\t', fieldnames=['rel','id'])\n",
        "    for row_val in reader:\n",
        "        id = row_val['id']\n",
        "        relation = row_val['rel']\n",
        "\n",
        "        rel2id[relation] = int(id)\n",
        "        id2rel[int(id)] = relation\n",
        "\n",
        "print(\"Number of relations: {}\".format(len(rel2id)))"
      ],
      "execution_count": null,
      "outputs": [
        {
          "output_type": "stream",
          "text": [
            "Number of relations: 107\n"
          ],
          "name": "stdout"
        }
      ]
    },
    {
      "cell_type": "code",
      "metadata": {
        "colab": {
          "base_uri": "https://localhost:8080/"
        },
        "id": "U23L52E_z8Gg",
        "outputId": "f4761c45-7bc9-498e-bccc-efdf80cd49e9"
      },
      "source": [
        "rel_emb = np.load('./embed/DRKG_TransE_l2_relation.npy')\n",
        "print(rel_emb.shape)"
      ],
      "execution_count": null,
      "outputs": [
        {
          "output_type": "stream",
          "text": [
            "(107, 400)\n"
          ],
          "name": "stdout"
        }
      ]
    },
    {
      "cell_type": "code",
      "metadata": {
        "colab": {
          "base_uri": "https://localhost:8080/",
          "height": 299
        },
        "id": "pRiTXPSH0JWC",
        "outputId": "45d9b7f4-4e87-4558-d435-1af8562d4126"
      },
      "source": [
        "\n",
        "from matplotlib import cm\n",
        "import matplotlib.pyplot as plt\n",
        "from sklearn.utils import check_random_state\n",
        "from sklearn.manifold import TSNE\n",
        "\n",
        "dataset_id = {}\n",
        "for rel_name, i in rel2id.items():\n",
        "    rel_key = rel_name.split('::')[0]\n",
        "    if dataset_id.get(rel_key, None) is None:\n",
        "        dataset_id[rel_key] = []\n",
        "    dataset_id[rel_key].append(i)\n",
        "\n",
        "X_embedded = TSNE(n_components=2).fit_transform(rel_emb).T\n",
        "p = cm.rainbow(int(255/2 * 1))\n",
        "fig = plt.figure()\n",
        "ax = fig.add_subplot(111)\n",
        "for key, val in dataset_id.items():\n",
        "    val = np.asarray(val, dtype=np.long)\n",
        "\n",
        "    ax.plot(X_embedded[0][val], X_embedded[1][val], '.', label=key)\n",
        "\n",
        "lgd = ax.legend(bbox_to_anchor=(1.0, 1.0))\n",
        "plt.savefig('relation.eps', bbox_extra_artists=(lgd,), bbox_inches='tight', format='eps')"
      ],
      "execution_count": null,
      "outputs": [
        {
          "output_type": "stream",
          "text": [
            "The PostScript backend does not support transparency; partially transparent artists will be rendered opaque.\n",
            "The PostScript backend does not support transparency; partially transparent artists will be rendered opaque.\n"
          ],
          "name": "stderr"
        },
        {
          "output_type": "display_data",
          "data": {
            "image/png": "[encoded data removed]",
            "text/plain": [
              "<Figure size 432x288 with 1 Axes>"
            ]
          },
          "metadata": {
            "tags": [],
            "needs_background": "light"
          }
        }
      ]
    },
    {
      "cell_type": "code",
      "metadata": {
        "colab": {
          "base_uri": "https://localhost:8080/",
          "height": 17
        },
        "id": "gjdl79sP6-qS",
        "outputId": "ae5a7cf2-b064-4a45-f2c6-54ce25997813"
      },
      "source": [
        "from google.colab import files\n",
        "\n",
        "files.download('edge_pair_jaccard_scores_sorted_jacard.tsv')"
      ],
      "execution_count": null,
      "outputs": [
        {
          "output_type": "display_data",
          "data": {
            "application/javascript": [
              "\n",
              "    async function download(id, filename, size) {\n",
              "      if (!google.colab.kernel.accessAllowed) {\n",
              "        return;\n",
              "      }\n",
              "      const div = document.createElement('div');\n",
              "      const label = document.createElement('label');\n",
              "      label.textContent = `Downloading \"${filename}\": `;\n",
              "      div.appendChild(label);\n",
              "      const progress = document.createElement('progress');\n",
              "      progress.max = size;\n",
              "      div.appendChild(progress);\n",
              "      document.body.appendChild(div);\n",
              "\n",
              "      const buffers = [];\n",
              "      let downloaded = 0;\n",
              "\n",
              "      const channel = await google.colab.kernel.comms.open(id);\n",
              "      // Send a message to notify the kernel that we're ready.\n",
              "      channel.send({})\n",
              "\n",
              "      for await (const message of channel.messages) {\n",
              "        // Send a message to notify the kernel that we're ready.\n",
              "        channel.send({})\n",
              "        if (message.buffers) {\n",
              "          for (const buffer of message.buffers) {\n",
              "            buffers.push(buffer);\n",
              "            downloaded += buffer.byteLength;\n",
              "            progress.value = downloaded;\n",
              "          }\n",
              "        }\n",
              "      }\n",
              "      const blob = new Blob(buffers, {type: 'application/binary'});\n",
              "      const a = document.createElement('a');\n",
              "      a.href = window.URL.createObjectURL(blob);\n",
              "      a.download = filename;\n",
              "      div.appendChild(a);\n",
              "      a.click();\n",
              "      div.remove();\n",
              "    }\n",
              "  "
            ],
            "text/plain": [
              "<IPython.core.display.Javascript object>"
            ]
          },
          "metadata": {
            "tags": []
          }
        },
        {
          "output_type": "display_data",
          "data": {
            "application/javascript": [
              "download(\"download_f97cbbfe-b543-46ab-ad13-0ae181cb05cc\", \"edge_pair_jaccard_scores_sorted_jacard.tsv\", 584082)"
            ],
            "text/plain": [
              "<IPython.core.display.Javascript object>"
            ]
          },
          "metadata": {
            "tags": []
          }
        }
      ]
    },
    {
      "cell_type": "code",
      "metadata": {
        "colab": {
          "base_uri": "https://localhost:8080/"
        },
        "id": "hQxQBA430R7e",
        "outputId": "46e3d412-52be-4f72-f4b0-e1f5be009530"
      },
      "source": [
        "from sklearn.metrics.pairwise import cosine_similarity\n",
        "\n",
        "similarity = cosine_similarity(rel_emb)\n",
        "idx = np.flip(np.argsort(similarity), axis=1)\n",
        "\n",
        "max_pairs = []\n",
        "for i in range(idx.shape[0]):\n",
        "    j = 1\n",
        "    while (similarity[i][idx[i][j]] > 0.9):\n",
        "        max_pairs.append((id2rel[idx[i][0]], id2rel[idx[i][j]], similarity[i][idx[i][j]]))\n",
        "        j += 1\n",
        "\n",
        "def sort_score(pair):\n",
        "    return pair[2]\n",
        "\n",
        "max_pairs.sort(reverse=True, key=sort_score)\n",
        "sim_pairs = []\n",
        "for i, pair in enumerate(max_pairs):\n",
        "    if i % 2 == 0:\n",
        "        sim_pairs.append(pair)\n",
        "\n",
        "sim_pairs[:10]"
      ],
      "execution_count": null,
      "outputs": [
        {
          "output_type": "execute_result",
          "data": {
            "text/plain": [
              "[('GNBR::E::Compound:Gene', 'GNBR::K::Compound:Gene', 0.9859934),\n",
              " ('GNBR::E::Compound:Gene', 'GNBR::E+::Compound:Gene', 0.98297095),\n",
              " ('GNBR::N::Compound:Gene', 'GNBR::E-::Compound:Gene', 0.9698722),\n",
              " ('GNBR::E::Compound:Gene', 'GNBR::E-::Compound:Gene', 0.96532136),\n",
              " ('GNBR::K::Compound:Gene', 'GNBR::E+::Compound:Gene', 0.9564863),\n",
              " ('GNBR::E+::Compound:Gene', 'GNBR::E-::Compound:Gene', 0.95019233),\n",
              " ('GNBR::L::Gene:Disease', 'GNBR::G::Gene:Disease', 0.94194484),\n",
              " ('GNBR::K::Compound:Gene', 'GNBR::E-::Compound:Gene', 0.94074607),\n",
              " ('GNBR::J::Gene:Disease', 'GNBR::Md::Gene:Disease', 0.9319676),\n",
              " ('GNBR::J::Gene:Disease', 'GNBR::Te::Gene:Disease', 0.9318372)]"
            ]
          },
          "metadata": {
            "tags": []
          },
          "execution_count": 23
        }
      ]
    },
    {
      "cell_type": "code",
      "metadata": {
        "colab": {
          "base_uri": "https://localhost:8080/",
          "height": 296
        },
        "id": "hKlM81_h0WyX",
        "outputId": "213a7231-56e9-487f-9bcb-e725e4569557"
      },
      "source": [
        "similarity=similarity.flatten()\n",
        "print(similarity.shape)\n",
        "\n",
        "# cleanup self-compare and dup-compare\n",
        "s = similarity < 0.99\n",
        "s = np.unique(similarity[s])\n",
        "plt.xlabel('Cosine similarity')\n",
        "plt.ylabel('Number of relation pairs')\n",
        "plt.hist(s)\n",
        "plt.savefig('relation-sim.eps', format='eps')"
      ],
      "execution_count": null,
      "outputs": [
        {
          "output_type": "stream",
          "text": [
            "(11449,)\n"
          ],
          "name": "stdout"
        },
        {
          "output_type": "display_data",
          "data": {
            "image/png": "[encoded data removed]",
            "text/plain": [
              "<Figure size 432x288 with 1 Axes>"
            ]
          },
          "metadata": {
            "tags": [],
            "needs_background": "light"
          }
        }
      ]
    },
    {
      "cell_type": "code",
      "metadata": {
        "colab": {
          "base_uri": "https://localhost:8080/"
        },
        "id": "wDkh4xbk0bmE",
        "outputId": "ef82a356-8132-4d49-bc92-d32c5610f085"
      },
      "source": [
        "from sklearn.metrics.pairwise import euclidean_distances\n",
        "\n",
        "similarity = euclidean_distances(rel_emb)\n",
        "idx = np.argsort(similarity)\n",
        "\n",
        "min_pairs = []\n",
        "for i in range(idx.shape[0]):\n",
        "    j = 1\n",
        "    while (similarity[i][idx[i][j]] < 5):\n",
        "        min_pairs.append((id2rel[idx[i][0]], id2rel[idx[i][j]], similarity[i][idx[i][j]]))\n",
        "        j += 1\n",
        "\n",
        "def sort_score(pair):\n",
        "    return pair[2]\n",
        "\n",
        "min_pairs.sort(key=sort_score)\n",
        "sim_pairs = []\n",
        "for i, pair in enumerate(min_pairs):\n",
        "    if i % 2 == 0:\n",
        "        sim_pairs.append(pair)\n",
        "\n",
        "sim_pairs[:10]"
      ],
      "execution_count": null,
      "outputs": [
        {
          "output_type": "execute_result",
          "data": {
            "text/plain": [
              "[('GNBR::E::Compound:Gene', 'GNBR::K::Compound:Gene', 1.6984596),\n",
              " ('GNBR::E::Compound:Gene', 'GNBR::E+::Compound:Gene', 1.8601348),\n",
              " ('GNBR::N::Compound:Gene', 'GNBR::E-::Compound:Gene', 2.3698092),\n",
              " ('GNBR::E::Compound:Gene', 'GNBR::E-::Compound:Gene', 2.606229),\n",
              " ('GNBR::K::Compound:Gene', 'GNBR::E+::Compound:Gene', 2.9946468),\n",
              " ('GNBR::E+::Compound:Gene', 'GNBR::E-::Compound:Gene', 3.1560013),\n",
              " ('GNBR::L::Gene:Disease', 'GNBR::G::Gene:Disease', 3.4119256),\n",
              " ('GNBR::K::Compound:Gene', 'GNBR::E-::Compound:Gene', 3.454293),\n",
              " ('GNBR::J::Gene:Disease', 'GNBR::Md::Gene:Disease', 3.6071572),\n",
              " ('GNBR::J::Gene:Disease', 'GNBR::Te::Gene:Disease', 3.624401)]"
            ]
          },
          "metadata": {
            "tags": []
          },
          "execution_count": 25
        }
      ]
    },
    {
      "cell_type": "code",
      "metadata": {
        "id": "VyCQlpRo0qCw",
        "colab": {
          "base_uri": "https://localhost:8080/",
          "height": 296
        },
        "outputId": "11dd52f9-2b47-431a-b799-ac41f99b6916"
      },
      "source": [
        "similarity=similarity.flatten()\n",
        "print(similarity.shape)\n",
        "\n",
        "# cleanup self-compare and dup-compare\n",
        "s = similarity > 0\n",
        "s = np.unique(similarity[s])\n",
        "plt.xlabel('Frobenius Distance')\n",
        "plt.ylabel('Number of relation pairs')\n",
        "plt.hist(s)\n",
        "plt.show()"
      ],
      "execution_count": null,
      "outputs": [
        {
          "output_type": "stream",
          "text": [
            "(11449,)\n"
          ],
          "name": "stdout"
        },
        {
          "output_type": "display_data",
          "data": {
            "image/png": "[encoded data removed]",
            "text/plain": [
              "<Figure size 432x288 with 1 Axes>"
            ]
          },
          "metadata": {
            "tags": [],
            "needs_background": "light"
          }
        }
      ]
    },
    {
      "cell_type": "code",
      "metadata": {
        "colab": {
          "base_uri": "https://localhost:8080/"
        },
        "id": "6jPVdfrA7buE",
        "outputId": "69514af8-7957-4222-96eb-7de421c0d59b"
      },
      "source": [
        "! nvidia-smi"
      ],
      "execution_count": null,
      "outputs": [
        {
          "output_type": "stream",
          "text": [
            "NVIDIA-SMI has failed because it couldn't communicate with the NVIDIA driver. Make sure that the latest NVIDIA driver is installed and running.\n",
            "\n"
          ],
          "name": "stdout"
        }
      ]
    },
    {
      "cell_type": "code",
      "metadata": {
        "id": "QNlPjB4o9pIG"
      },
      "source": [
        ""
      ],
      "execution_count": null,
      "outputs": []
    }
  ]
}
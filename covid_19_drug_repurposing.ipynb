{
  "nbformat": 4,
  "nbformat_minor": 0,
  "metadata": {
    "colab": {
      "name": "covid-19_drug_repurposing.ipynb",
      "provenance": []
    },
    "kernelspec": {
      "name": "python3",
      "display_name": "Python 3"
    },
    "language_info": {
      "name": "python"
    },
    "accelerator": "GPU"
  },
  "cells": [
    {
      "cell_type": "code",
      "metadata": {
        "colab": {
          "base_uri": "https://localhost:8080/"
        },
        "id": "pP5VsYyA1e0N",
        "outputId": "da93d32f-2763-4a63-d486-b3c6cd4a46a3"
      },
      "source": [
        "! sudo pip3 install dgl-cu101"
      ],
      "execution_count": null,
      "outputs": [
        {
          "output_type": "stream",
          "text": [
            "Collecting dgl-cu101\n",
            "\u001b[?25l  Downloading https://files.pythonhosted.org/packages/34/42/f2b5c0a2ba070599b06981698fd5b302bd081c4d0257b6f84cb2c196886a/dgl_cu101-0.6.1-cp37-cp37m-manylinux1_x86_64.whl (36.2MB)\n",
            "\u001b[K     |████████████████████████████████| 36.2MB 87kB/s \n",
            "\u001b[?25hRequirement already satisfied: numpy>=1.14.0 in /usr/local/lib/python3.7/dist-packages (from dgl-cu101) (1.19.5)\n",
            "Requirement already satisfied: requests>=2.19.0 in /usr/local/lib/python3.7/dist-packages (from dgl-cu101) (2.23.0)\n",
            "Requirement already satisfied: scipy>=1.1.0 in /usr/local/lib/python3.7/dist-packages (from dgl-cu101) (1.4.1)\n",
            "Requirement already satisfied: networkx>=2.1 in /usr/local/lib/python3.7/dist-packages (from dgl-cu101) (2.5.1)\n",
            "Requirement already satisfied: urllib3!=1.25.0,!=1.25.1,<1.26,>=1.21.1 in /usr/local/lib/python3.7/dist-packages (from requests>=2.19.0->dgl-cu101) (1.24.3)\n",
            "Requirement already satisfied: idna<3,>=2.5 in /usr/local/lib/python3.7/dist-packages (from requests>=2.19.0->dgl-cu101) (2.10)\n",
            "Requirement already satisfied: chardet<4,>=3.0.2 in /usr/local/lib/python3.7/dist-packages (from requests>=2.19.0->dgl-cu101) (3.0.4)\n",
            "Requirement already satisfied: certifi>=2017.4.17 in /usr/local/lib/python3.7/dist-packages (from requests>=2.19.0->dgl-cu101) (2021.5.30)\n",
            "Requirement already satisfied: decorator<5,>=4.3 in /usr/local/lib/python3.7/dist-packages (from networkx>=2.1->dgl-cu101) (4.4.2)\n",
            "Installing collected packages: dgl-cu101\n",
            "Successfully installed dgl-cu101-0.6.1\n"
          ],
          "name": "stdout"
        }
      ]
    },
    {
      "cell_type": "code",
      "metadata": {
        "colab": {
          "base_uri": "https://localhost:8080/"
        },
        "id": "Qn3r7sIGw4kA",
        "outputId": "1038edfa-115c-4395-97d0-10d5be755e1d"
      },
      "source": [
        "! nvidia-smi"
      ],
      "execution_count": null,
      "outputs": [
        {
          "output_type": "stream",
          "text": [
            "Mon Jun 21 00:38:56 2021       \n",
            "+-----------------------------------------------------------------------------+\n",
            "| NVIDIA-SMI 465.27       Driver Version: 460.32.03    CUDA Version: 11.2     |\n",
            "|-------------------------------+----------------------+----------------------+\n",
            "| GPU  Name        Persistence-M| Bus-Id        Disp.A | Volatile Uncorr. ECC |\n",
            "| Fan  Temp  Perf  Pwr:Usage/Cap|         Memory-Usage | GPU-Util  Compute M. |\n",
            "|                               |                      |               MIG M. |\n",
            "|===============================+======================+======================|\n",
            "|   0  Tesla T4            Off  | 00000000:00:04.0 Off |                    0 |\n",
            "| N/A   43C    P8    10W /  70W |      0MiB / 15109MiB |      0%      Default |\n",
            "|                               |                      |                  N/A |\n",
            "+-------------------------------+----------------------+----------------------+\n",
            "                                                                               \n",
            "+-----------------------------------------------------------------------------+\n",
            "| Processes:                                                                  |\n",
            "|  GPU   GI   CI        PID   Type   Process name                  GPU Memory |\n",
            "|        ID   ID                                                   Usage      |\n",
            "|=============================================================================|\n",
            "|  No running processes found                                                 |\n",
            "+-----------------------------------------------------------------------------+\n"
          ],
          "name": "stdout"
        }
      ]
    },
    {
      "cell_type": "code",
      "metadata": {
        "colab": {
          "base_uri": "https://localhost:8080/"
        },
        "id": "nWZbDkf_1yHL",
        "outputId": "f284bfdf-334e-418f-dbbb-9c89611f4771"
      },
      "source": [
        "! sudo pip3 install dglke"
      ],
      "execution_count": null,
      "outputs": [
        {
          "output_type": "stream",
          "text": [
            "Collecting dglke\n",
            "\u001b[?25l  Downloading https://files.pythonhosted.org/packages/3d/dd/e59e958d8c6325d73476d309393c1e6f355a6418c03c415f18a1e79213fd/dglke-0.1.2-py3-none-any.whl (78kB)\n",
            "\r\u001b[K     |████▏                           | 10kB 15.7MB/s eta 0:00:01\r\u001b[K     |████████▎                       | 20kB 15.9MB/s eta 0:00:01\r\u001b[K     |████████████▌                   | 30kB 14.6MB/s eta 0:00:01\r\u001b[K     |████████████████▋               | 40kB 13.6MB/s eta 0:00:01\r\u001b[K     |████████████████████▉           | 51kB 7.6MB/s eta 0:00:01\r\u001b[K     |█████████████████████████       | 61kB 8.9MB/s eta 0:00:01\r\u001b[K     |█████████████████████████████▏  | 71kB 7.5MB/s eta 0:00:01\r\u001b[K     |████████████████████████████████| 81kB 5.1MB/s \n",
            "\u001b[?25hRequirement already satisfied: setuptools in /usr/local/lib/python3.7/dist-packages (from dglke) (57.0.0)\n",
            "Requirement already satisfied: numpy in /usr/local/lib/python3.7/dist-packages (from dglke) (1.19.5)\n",
            "Installing collected packages: dglke\n",
            "Successfully installed dglke-0.1.2\n"
          ],
          "name": "stdout"
        }
      ]
    },
    {
      "cell_type": "code",
      "metadata": {
        "colab": {
          "base_uri": "https://localhost:8080/"
        },
        "id": "6vqAZ9G93WNd",
        "outputId": "1b26ab8d-5231-478f-b0ae-f5306172d4b0"
      },
      "source": [
        "! git clone https://github.com/gnn4dr/DRKG.git"
      ],
      "execution_count": null,
      "outputs": [
        {
          "output_type": "stream",
          "text": [
            "Cloning into 'DRKG'...\n",
            "remote: Enumerating objects: 283, done.\u001b[K\n",
            "remote: Counting objects: 100% (95/95), done.\u001b[K\n",
            "remote: Compressing objects: 100% (50/50), done.\u001b[K\n",
            "remote: Total 283 (delta 48), reused 81 (delta 45), pack-reused 188\u001b[K\n",
            "Receiving objects: 100% (283/283), 1.39 MiB | 4.33 MiB/s, done.\n",
            "Resolving deltas: 100% (127/127), done.\n"
          ],
          "name": "stdout"
        }
      ]
    },
    {
      "cell_type": "code",
      "metadata": {
        "id": "4kN9tJtx1-14",
        "colab": {
          "base_uri": "https://localhost:8080/"
        },
        "outputId": "f0a958dc-d3a4-4ecb-f647-cdb138dbf3e3"
      },
      "source": [
        "import pandas as pd\n",
        "import numpy as np\n",
        "import dgl\n",
        "import sys\n",
        "sys.path.insert(1, 'DRKG/utils')\n",
        "from utils import download_and_extract\n",
        "download_and_extract()\n",
        "drkg_file = '../data/drkg.tsv'\n",
        "df = pd.read_csv(drkg_file, sep=\"\\t\")\n",
        "triplets = df.values.tolist()"
      ],
      "execution_count": null,
      "outputs": [
        {
          "output_type": "stream",
          "text": [
            "DGL backend not selected or invalid.  Assuming PyTorch for now.\n"
          ],
          "name": "stderr"
        },
        {
          "output_type": "stream",
          "text": [
            "Setting the default backend to \"pytorch\". You can change it in the ~/.dgl/config.json file or export the DGLBACKEND environment variable.  Valid options are: pytorch, mxnet, tensorflow (all lowercase)\n"
          ],
          "name": "stdout"
        },
        {
          "output_type": "stream",
          "text": [
            "Using backend: pytorch\n"
          ],
          "name": "stderr"
        },
        {
          "output_type": "stream",
          "text": [
            "Download finished. Unzipping the file...\n"
          ],
          "name": "stdout"
        }
      ]
    },
    {
      "cell_type": "code",
      "metadata": {
        "colab": {
          "base_uri": "https://localhost:8080/"
        },
        "id": "zVlLQdoLx_bi",
        "outputId": "289ac04c-b7bb-4476-ca36-38bdd69e73d6"
      },
      "source": [
        "! wget https://dgl-data.s3-us-west-2.amazonaws.com/dataset/DRKG/drkg.tar.gz\n"
      ],
      "execution_count": null,
      "outputs": [
        {
          "output_type": "stream",
          "text": [
            "--2021-06-21 00:41:14--  https://dgl-data.s3-us-west-2.amazonaws.com/dataset/DRKG/drkg.tar.gz\n",
            "Resolving dgl-data.s3-us-west-2.amazonaws.com (dgl-data.s3-us-west-2.amazonaws.com)... 52.92.146.194\n",
            "Connecting to dgl-data.s3-us-west-2.amazonaws.com (dgl-data.s3-us-west-2.amazonaws.com)|52.92.146.194|:443... connected.\n",
            "HTTP request sent, awaiting response... 200 OK\n",
            "Length: 216650245 (207M) [application/x-tar]\n",
            "Saving to: ‘drkg.tar.gz’\n",
            "\n",
            "drkg.tar.gz         100%[===================>] 206.61M  65.1MB/s    in 3.3s    \n",
            "\n",
            "2021-06-21 00:41:17 (62.2 MB/s) - ‘drkg.tar.gz’ saved [216650245/216650245]\n",
            "\n"
          ],
          "name": "stdout"
        }
      ]
    },
    {
      "cell_type": "code",
      "metadata": {
        "id": "N5JI5kta14Ks"
      },
      "source": [
        "! tar -xf drkg.tar.gz"
      ],
      "execution_count": null,
      "outputs": []
    },
    {
      "cell_type": "code",
      "metadata": {
        "colab": {
          "base_uri": "https://localhost:8080/"
        },
        "id": "ntAEgMZXyaGZ",
        "outputId": "2d885867-11e4-443a-fa7c-5068e7471e54"
      },
      "source": [
        "! ls embed/"
      ],
      "execution_count": null,
      "outputs": [
        {
          "output_type": "stream",
          "text": [
            "DRKG_TransE_l2_entity.npy    mol_contextpred.npy  mol_masking.npy\n",
            "DRKG_TransE_l2_relation.npy  mol_edgepred.npy\t  Readme.md\n",
            "entities.tsv\t\t     mol_infomax.npy\t  relations.tsv\n"
          ],
          "name": "stdout"
        }
      ]
    },
    {
      "cell_type": "code",
      "metadata": {
        "colab": {
          "base_uri": "https://localhost:8080/"
        },
        "id": "j1-VjnK0y7N0",
        "outputId": "0cc02140-aae4-45a2-d31b-771425667cb3"
      },
      "source": [
        "! ls  DRKG/drug_repurpose/infer_drug.tsv"
      ],
      "execution_count": null,
      "outputs": [
        {
          "output_type": "stream",
          "text": [
            "coronavirus-related-host-genes.tsv\t   covid19-host-genes.tsv\n",
            "COVID19_clinical_trial_drugs.tsv\t   infer_drug.tsv\n",
            "COVID-19_drug_repurposing.ipynb\t\t   Readme.md\n",
            "COVID-19_drug_repurposing_via_genes.ipynb\n"
          ],
          "name": "stdout"
        }
      ]
    },
    {
      "cell_type": "code",
      "metadata": {
        "colab": {
          "base_uri": "https://localhost:8080/"
        },
        "id": "ie8vqHBzzj5X",
        "outputId": "63287841-6959-4129-d242-b0abf849ac2f"
      },
      "source": [
        "! ls embed"
      ],
      "execution_count": null,
      "outputs": [
        {
          "output_type": "stream",
          "text": [
            "DRKG_TransE_l2_entity.npy    mol_contextpred.npy  mol_masking.npy\n",
            "DRKG_TransE_l2_relation.npy  mol_edgepred.npy\t  Readme.md\n",
            "entities.tsv\t\t     mol_infomax.npy\t  relations.tsv\n"
          ],
          "name": "stdout"
        }
      ]
    },
    {
      "cell_type": "code",
      "metadata": {
        "colab": {
          "base_uri": "https://localhost:8080/"
        },
        "id": "-DH45aNA5W_d",
        "outputId": "442aad22-9b68-46fe-bb48-2ea50ebd647a"
      },
      "source": [
        "print(len(triplets))"
      ],
      "execution_count": null,
      "outputs": [
        {
          "output_type": "stream",
          "text": [
            "5874260\n"
          ],
          "name": "stdout"
        }
      ]
    },
    {
      "cell_type": "code",
      "metadata": {
        "id": "eQKzUP1lBocF"
      },
      "source": [
        "\n",
        "COV_disease_list = [\n",
        "'Disease::SARS-CoV2 E',\n",
        "'Disease::SARS-CoV2 M',\n",
        "'Disease::SARS-CoV2 N',\n",
        "'Disease::SARS-CoV2 Spike',\n",
        "'Disease::SARS-CoV2 nsp1',\n",
        "'Disease::SARS-CoV2 nsp10',\n",
        "'Disease::SARS-CoV2 nsp11',\n",
        "'Disease::SARS-CoV2 nsp12',\n",
        "'Disease::SARS-CoV2 nsp13',\n",
        "'Disease::SARS-CoV2 nsp14',\n",
        "'Disease::SARS-CoV2 nsp15',\n",
        "'Disease::SARS-CoV2 nsp2',\n",
        "'Disease::SARS-CoV2 nsp4',\n",
        "'Disease::SARS-CoV2 nsp5',\n",
        "'Disease::SARS-CoV2 nsp5_C145A',\n",
        "'Disease::SARS-CoV2 nsp6',\n",
        "'Disease::SARS-CoV2 nsp7',\n",
        "'Disease::SARS-CoV2 nsp8',\n",
        "'Disease::SARS-CoV2 nsp9',\n",
        "'Disease::SARS-CoV2 orf10',\n",
        "'Disease::SARS-CoV2 orf3a',\n",
        "'Disease::SARS-CoV2 orf3b',\n",
        "'Disease::SARS-CoV2 orf6',\n",
        "'Disease::SARS-CoV2 orf7a',\n",
        "'Disease::SARS-CoV2 orf8',\n",
        "'Disease::SARS-CoV2 orf9b',\n",
        "'Disease::SARS-CoV2 orf9c',\n",
        "'Disease::MESH:D045169',\n",
        "'Disease::MESH:D045473',\n",
        "'Disease::MESH:D001351',\n",
        "'Disease::MESH:D065207',\n",
        "'Disease::MESH:D028941',\n",
        "'Disease::MESH:D058957',\n",
        "'Disease::MESH:D006517'\n",
        "]"
      ],
      "execution_count": null,
      "outputs": []
    },
    {
      "cell_type": "code",
      "metadata": {
        "colab": {
          "base_uri": "https://localhost:8080/"
        },
        "id": "U23L52E_z8Gg",
        "outputId": "5d5a2b82-67c1-4384-f63b-5f797f9d1cbd"
      },
      "source": [
        "entity_emb = np.load('./embed/DRKG_TransE_l2_entity.npy')\n",
        "print(entity_emb.shape)"
      ],
      "execution_count": null,
      "outputs": [
        {
          "output_type": "stream",
          "text": [
            "(97238, 400)\n"
          ],
          "name": "stdout"
        }
      ]
    },
    {
      "cell_type": "code",
      "metadata": {
        "id": "E66D2VpVBux2"
      },
      "source": [
        "import csv\n",
        "\n",
        "# Load entity file\n",
        "drug_list = []\n",
        "with open(\"./DRKG/drug_repurpose/infer_drug.tsv\", newline='', encoding='utf-8') as csvfile:\n",
        "    reader = csv.DictReader(csvfile, delimiter='\\t', fieldnames=['drug','ids'])\n",
        "    for row_val in reader:\n",
        "        drug_list.append(row_val['drug'])"
      ],
      "execution_count": null,
      "outputs": []
    },
    {
      "cell_type": "code",
      "metadata": {
        "colab": {
          "base_uri": "https://localhost:8080/"
        },
        "id": "gehwf9r1CEf_",
        "outputId": "d3ff290b-d86c-49e2-ddfc-67df6e8e822f"
      },
      "source": [
        "len(drug_list)"
      ],
      "execution_count": null,
      "outputs": [
        {
          "output_type": "execute_result",
          "data": {
            "text/plain": [
              "8104"
            ]
          },
          "metadata": {
            "tags": []
          },
          "execution_count": 19
        }
      ]
    },
    {
      "cell_type": "code",
      "metadata": {
        "id": "C4hn0LRgCL-z"
      },
      "source": [
        "treatment = ['Hetionet::CtD::Compound:Disease','GNBR::T::Compound:Disease']"
      ],
      "execution_count": null,
      "outputs": []
    },
    {
      "cell_type": "code",
      "metadata": {
        "id": "_cxDXPySCivE"
      },
      "source": [
        "entity_idmap_file = 'embed/entities.tsv'\n",
        "relation_idmap_file = 'embed/relations.tsv'"
      ],
      "execution_count": null,
      "outputs": []
    },
    {
      "cell_type": "code",
      "metadata": {
        "id": "lKz7EPgFCtV1"
      },
      "source": [
        "# Get drugname/disease name to entity ID mappings\n",
        "entity_map = {}\n",
        "entity_id_map = {}\n",
        "relation_map = {}\n",
        "with open(entity_idmap_file, newline='', encoding='utf-8') as csvfile:\n",
        "    reader = csv.DictReader(csvfile, delimiter='\\t', fieldnames=['name','id'])\n",
        "    for row_val in reader:\n",
        "        entity_map[row_val['name']] = int(row_val['id'])\n",
        "        entity_id_map[int(row_val['id'])] = row_val['name']\n",
        "        \n",
        "with open(relation_idmap_file, newline='', encoding='utf-8') as csvfile:\n",
        "    reader = csv.DictReader(csvfile, delimiter='\\t', fieldnames=['name','id'])\n",
        "    for row_val in reader:\n",
        "        relation_map[row_val['name']] = int(row_val['id'])\n",
        "        \n",
        "# handle the ID mapping\n",
        "drug_ids = []\n",
        "disease_ids = []\n",
        "for drug in drug_list:\n",
        "    drug_ids.append(entity_map[drug])\n",
        "    \n",
        "for disease in COV_disease_list:\n",
        "    disease_ids.append(entity_map[disease])\n",
        "\n",
        "treatment_rid = [relation_map[treat]  for treat in treatment]"
      ],
      "execution_count": null,
      "outputs": []
    },
    {
      "cell_type": "code",
      "metadata": {
        "id": "-1AO7M0gCx--"
      },
      "source": [
        "# Load embeddings\n",
        "import torch as th\n",
        "entity_emb = np.load('embed/DRKG_TransE_l2_entity.npy')\n",
        "rel_emb = np.load('embed/DRKG_TransE_l2_relation.npy')\n",
        "\n",
        "drug_ids = th.tensor(drug_ids).long()\n",
        "disease_ids = th.tensor(disease_ids).long()\n",
        "treatment_rid = th.tensor(treatment_rid)\n",
        "\n",
        "drug_emb = th.tensor(entity_emb[drug_ids])\n",
        "treatment_embs = [th.tensor(rel_emb[rid]) for rid in treatment_rid]"
      ],
      "execution_count": null,
      "outputs": []
    },
    {
      "cell_type": "code",
      "metadata": {
        "id": "U_rCiKFTC4cF"
      },
      "source": [
        "import torch.nn.functional as fn\n",
        "\n",
        "gamma=12.0\n",
        "def transE_l2(head, rel, tail):\n",
        "    score = head + rel - tail\n",
        "    return gamma - th.norm(score, p=2, dim=-1)\n",
        "\n",
        "scores_per_disease = []\n",
        "dids = []\n",
        "for rid in range(len(treatment_embs)):\n",
        "    treatment_emb=treatment_embs[rid]\n",
        "    for disease_id in disease_ids:\n",
        "        disease_emb = entity_emb[disease_id]\n",
        "        score = fn.logsigmoid(transE_l2(drug_emb, treatment_emb, disease_emb))\n",
        "        scores_per_disease.append(score)\n",
        "        dids.append(drug_ids)\n",
        "scores = th.cat(scores_per_disease)\n",
        "dids = th.cat(dids)"
      ],
      "execution_count": null,
      "outputs": []
    },
    {
      "cell_type": "code",
      "metadata": {
        "id": "A9tUqV9OC8XG"
      },
      "source": [
        "# sort scores in decending order\n",
        "idx = th.flip(th.argsort(scores), dims=[0])\n",
        "scores = scores[idx].numpy()\n",
        "dids = dids[idx].numpy()"
      ],
      "execution_count": null,
      "outputs": []
    },
    {
      "cell_type": "code",
      "metadata": {
        "id": "UUNHkXi6C_ff"
      },
      "source": [
        "\n",
        "_, unique_indices = np.unique(dids, return_index=True)\n",
        "topk=100\n",
        "topk_indices = np.sort(unique_indices)[:topk]\n",
        "proposed_dids = dids[topk_indices]\n",
        "proposed_scores = scores[topk_indices]"
      ],
      "execution_count": null,
      "outputs": []
    },
    {
      "cell_type": "code",
      "metadata": {
        "colab": {
          "base_uri": "https://localhost:8080/"
        },
        "id": "lvz6K2ohDDG8",
        "outputId": "11ee1377-059d-47f6-c762-895a73ad21b7"
      },
      "source": [
        "for i in range(topk):\n",
        "    drug = int(proposed_dids[i])\n",
        "    score = proposed_scores[i]\n",
        "    \n",
        "    print(\"{}\\t{}\".format(entity_id_map[drug], score))"
      ],
      "execution_count": null,
      "outputs": [
        {
          "output_type": "stream",
          "text": [
            "Compound::DB00811\t-0.21416784822940826\n",
            "Compound::DB00993\t-0.8350892663002014\n",
            "Compound::DB00635\t-0.8974801898002625\n",
            "Compound::DB01082\t-0.9854875802993774\n",
            "Compound::DB01234\t-0.9984006881713867\n",
            "Compound::DB00982\t-1.0160715579986572\n",
            "Compound::DB00563\t-1.0189464092254639\n",
            "Compound::DB00290\t-1.0641038417816162\n",
            "Compound::DB01394\t-1.080674648284912\n",
            "Compound::DB01222\t-1.084547519683838\n",
            "Compound::DB00415\t-1.0853980779647827\n",
            "Compound::DB01004\t-1.096668004989624\n",
            "Compound::DB00860\t-1.1004775762557983\n",
            "Compound::DB00681\t-1.1011559963226318\n",
            "Compound::DB00688\t-1.1256868839263916\n",
            "Compound::DB00624\t-1.1428287029266357\n",
            "Compound::DB00959\t-1.1618403196334839\n",
            "Compound::DB00115\t-1.1868137121200562\n",
            "Compound::DB00091\t-1.1906721591949463\n",
            "Compound::DB01024\t-1.2051165103912354\n",
            "Compound::DB00741\t-1.2147057056427002\n",
            "Compound::DB00441\t-1.2320444583892822\n",
            "Compound::DB00158\t-1.2346539497375488\n",
            "Compound::DB00499\t-1.2525147199630737\n",
            "Compound::DB00929\t-1.2730510234832764\n",
            "Compound::DB00770\t-1.2825534343719482\n",
            "Compound::DB01331\t-1.2960493564605713\n",
            "Compound::DB00958\t-1.296778917312622\n",
            "Compound::DB02527\t-1.3034379482269287\n",
            "Compound::DB00196\t-1.3053392171859741\n",
            "Compound::DB00537\t-1.3131829500198364\n",
            "Compound::DB00644\t-1.3131871223449707\n",
            "Compound::DB01048\t-1.3267226219177246\n",
            "Compound::DB00552\t-1.3272082805633545\n",
            "Compound::DB00328\t-1.3286101818084717\n",
            "Compound::DB00171\t-1.3300385475158691\n",
            "Compound::DB01212\t-1.3330755233764648\n",
            "Compound::DB09093\t-1.33829927444458\n",
            "Compound::DB00783\t-1.338560938835144\n",
            "Compound::DB09341\t-1.3396968841552734\n",
            "Compound::DB00558\t-1.3425884246826172\n",
            "Compound::DB05382\t-1.3575129508972168\n",
            "Compound::DB01112\t-1.3584508895874023\n",
            "Compound::DB00515\t-1.3608119487762451\n",
            "Compound::DB01101\t-1.381548523902893\n",
            "Compound::DB01165\t-1.3838160037994385\n",
            "Compound::DB01183\t-1.3862146139144897\n",
            "Compound::DB00815\t-1.3863483667373657\n",
            "Compound::DB00755\t-1.3881778717041016\n",
            "Compound::DB00198\t-1.3885014057159424\n",
            "Compound::DB00480\t-1.393531084060669\n",
            "Compound::DB00806\t-1.399654507637024\n",
            "Compound::DB01656\t-1.3999741077423096\n",
            "Compound::DB00759\t-1.404650092124939\n",
            "Compound::DB00917\t-1.4116020202636719\n",
            "Compound::DB01181\t-1.414888858795166\n",
            "Compound::DB01039\t-1.4176589250564575\n",
            "Compound::DB00512\t-1.4207388162612915\n",
            "Compound::DB01233\t-1.4211887121200562\n",
            "Compound::DB11996\t-1.4257903099060059\n",
            "Compound::DB00738\t-1.4274098873138428\n",
            "Compound::DB00716\t-1.4327492713928223\n",
            "Compound::DB03461\t-1.437927484512329\n",
            "Compound::DB00591\t-1.4404338598251343\n",
            "Compound::DB01327\t-1.4408743381500244\n",
            "Compound::DB00131\t-1.4446886777877808\n",
            "Compound::DB00693\t-1.4460749626159668\n",
            "Compound::DB00369\t-1.4505743980407715\n",
            "Compound::DB04630\t-1.453115463256836\n",
            "Compound::DB00878\t-1.456466555595398\n",
            "Compound::DB08818\t-1.4633680582046509\n",
            "Compound::DB00682\t-1.4691765308380127\n",
            "Compound::DB01068\t-1.470012903213501\n",
            "Compound::DB00446\t-1.4720206260681152\n",
            "Compound::DB01115\t-1.4729849100112915\n",
            "Compound::DB00355\t-1.4770021438598633\n",
            "Compound::DB01030\t-1.485068678855896\n",
            "Compound::DB00620\t-1.4973516464233398\n",
            "Compound::DB00396\t-1.4976921081542969\n",
            "Compound::DB01073\t-1.4987037181854248\n",
            "Compound::DB00640\t-1.5026222467422485\n",
            "Compound::DB00999\t-1.5034290552139282\n",
            "Compound::DB01060\t-1.504364252090454\n",
            "Compound::DB00493\t-1.5072370767593384\n",
            "Compound::DB01240\t-1.5090959072113037\n",
            "Compound::DB00364\t-1.5099449157714844\n",
            "Compound::DB01263\t-1.511993169784546\n",
            "Compound::DB00746\t-1.5130667686462402\n",
            "Compound::DB00718\t-1.5183149576187134\n",
            "Compound::DB01065\t-1.5207152366638184\n",
            "Compound::DB01205\t-1.521277904510498\n",
            "Compound::DB01137\t-1.5229592323303223\n",
            "Compound::DB08894\t-1.5239652395248413\n",
            "Compound::DB00813\t-1.5308701992034912\n",
            "Compound::DB01157\t-1.5316557884216309\n",
            "Compound::DB04570\t-1.5430843830108643\n",
            "Compound::DB00459\t-1.5503207445144653\n",
            "Compound::DB01752\t-1.5541703701019287\n",
            "Compound::DB00775\t-1.5559712648391724\n",
            "Compound::DB01610\t-1.5563474893569946\n"
          ],
          "name": "stdout"
        }
      ]
    },
    {
      "cell_type": "code",
      "metadata": {
        "colab": {
          "base_uri": "https://localhost:8080/"
        },
        "id": "qqxwFiRVDV1O",
        "outputId": "5b7992d4-828e-45b4-bb65-eead205123a3"
      },
      "source": [
        "\n",
        "clinical_drugs_file = 'DRKG/drug_repurpose/COVID19_clinical_trial_drugs.tsv'\n",
        "clinical_drug_map = {}\n",
        "with open(clinical_drugs_file, newline='', encoding='utf-8') as csvfile:\n",
        "    reader = csv.DictReader(csvfile, delimiter='\\t', fieldnames=['id', 'drug_name','drug_id'])\n",
        "    for row_val in reader:\n",
        "        clinical_drug_map[row_val['drug_id']] = row_val['drug_name']\n",
        "        \n",
        "for i in range(topk):\n",
        "    drug = entity_id_map[int(proposed_dids[i])][10:17]\n",
        "    if clinical_drug_map.get(drug, None) is not None:\n",
        "        score = proposed_scores[i]\n",
        "        print(\"[{}]\\t{}\\t{}\".format(i, clinical_drug_map[drug],score , proposed_scores[i]))"
      ],
      "execution_count": null,
      "outputs": [
        {
          "output_type": "stream",
          "text": [
            "[0]\tRibavirin\t-0.21416784822940826\n",
            "[4]\tDexamethasone\t-0.9984006881713867\n",
            "[8]\tColchicine\t-1.080674648284912\n",
            "[16]\tMethylprednisolone\t-1.1618403196334839\n",
            "[49]\tOseltamivir\t-1.3885014057159424\n",
            "[87]\tDeferoxamine\t-1.5130667686462402\n"
          ],
          "name": "stdout"
        }
      ]
    },
    {
      "cell_type": "code",
      "metadata": {
        "id": "lz2ysG56DsZ0",
        "colab": {
          "base_uri": "https://localhost:8080/"
        },
        "outputId": "b85ce84d-32cb-4099-96a8-add1db65083f"
      },
      "source": [
        "len(clinical_drug_map)"
      ],
      "execution_count": null,
      "outputs": [
        {
          "output_type": "execute_result",
          "data": {
            "text/plain": [
              "32"
            ]
          },
          "metadata": {
            "tags": []
          },
          "execution_count": 33
        }
      ]
    },
    {
      "cell_type": "code",
      "metadata": {
        "colab": {
          "base_uri": "https://localhost:8080/",
          "height": 17
        },
        "id": "gjdl79sP6-qS",
        "outputId": "ae5a7cf2-b064-4a45-f2c6-54ce25997813"
      },
      "source": [
        "from google.colab import files\n",
        "\n",
        "files.download('edge_pair_jaccard_scores_sorted_jacard.tsv')"
      ],
      "execution_count": null,
      "outputs": [
        {
          "output_type": "display_data",
          "data": {
            "application/javascript": [
              "\n",
              "    async function download(id, filename, size) {\n",
              "      if (!google.colab.kernel.accessAllowed) {\n",
              "        return;\n",
              "      }\n",
              "      const div = document.createElement('div');\n",
              "      const label = document.createElement('label');\n",
              "      label.textContent = `Downloading \"${filename}\": `;\n",
              "      div.appendChild(label);\n",
              "      const progress = document.createElement('progress');\n",
              "      progress.max = size;\n",
              "      div.appendChild(progress);\n",
              "      document.body.appendChild(div);\n",
              "\n",
              "      const buffers = [];\n",
              "      let downloaded = 0;\n",
              "\n",
              "      const channel = await google.colab.kernel.comms.open(id);\n",
              "      // Send a message to notify the kernel that we're ready.\n",
              "      channel.send({})\n",
              "\n",
              "      for await (const message of channel.messages) {\n",
              "        // Send a message to notify the kernel that we're ready.\n",
              "        channel.send({})\n",
              "        if (message.buffers) {\n",
              "          for (const buffer of message.buffers) {\n",
              "            buffers.push(buffer);\n",
              "            downloaded += buffer.byteLength;\n",
              "            progress.value = downloaded;\n",
              "          }\n",
              "        }\n",
              "      }\n",
              "      const blob = new Blob(buffers, {type: 'application/binary'});\n",
              "      const a = document.createElement('a');\n",
              "      a.href = window.URL.createObjectURL(blob);\n",
              "      a.download = filename;\n",
              "      div.appendChild(a);\n",
              "      a.click();\n",
              "      div.remove();\n",
              "    }\n",
              "  "
            ],
            "text/plain": [
              "<IPython.core.display.Javascript object>"
            ]
          },
          "metadata": {
            "tags": []
          }
        },
        {
          "output_type": "display_data",
          "data": {
            "application/javascript": [
              "download(\"download_f97cbbfe-b543-46ab-ad13-0ae181cb05cc\", \"edge_pair_jaccard_scores_sorted_jacard.tsv\", 584082)"
            ],
            "text/plain": [
              "<IPython.core.display.Javascript object>"
            ]
          },
          "metadata": {
            "tags": []
          }
        }
      ]
    },
    {
      "cell_type": "code",
      "metadata": {
        "id": "3XJwzcW3DUxq"
      },
      "source": [
        ""
      ],
      "execution_count": null,
      "outputs": []
    },
    {
      "cell_type": "code",
      "metadata": {
        "id": "QNlPjB4o9pIG"
      },
      "source": [
        ""
      ],
      "execution_count": null,
      "outputs": []
    }
  ]
}